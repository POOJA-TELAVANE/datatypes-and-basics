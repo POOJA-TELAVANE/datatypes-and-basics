{
 "cells": [
  {
   "cell_type": "markdown",
   "metadata": {},
   "source": [
    "Questions 1 to 4"
   ]
  },
  {
   "cell_type": "markdown",
   "metadata": {},
   "source": [
    "1- declare 74.3 and 8.47 variables and store the addition in num "
   ]
  },
  {
   "cell_type": "markdown",
   "metadata": {},
   "source": [
    "2-save the below employee record and find length of each record print type of each record\n",
    "Vishwakarma ramanathan\n",
    "Laxmi road,Lal chowk, opposite vidya mandir school,Pune\n",
    "software engineer\n",
    "2/8/2009"
   ]
  },
  {
   "cell_type": "markdown",
   "metadata": {},
   "source": [
    "3-Print below sentences and find it's length, then join both statements and find the total length\n",
    "1= \"If you don't focus on your goal..\n",
    "2= you won't be able to perform well\", she said\""
   ]
  },
  {
   "cell_type": "markdown",
   "metadata": {},
   "source": [
    "4- print below string for 5 times\n",
    "\"Welcome to the Machine Learning world\"\n"
   ]
  },
  {
   "cell_type": "markdown",
   "metadata": {},
   "source": [
    "## Variables declaration, Naming, Addition, Length"
   ]
  },
  {
   "cell_type": "code",
   "execution_count": 1,
   "metadata": {},
   "outputs": [
    {
     "name": "stdout",
     "output_type": "stream",
     "text": [
      "20\n",
      "<class 'int'>\n"
     ]
    }
   ],
   "source": [
    "num = 20           #integer data type\n",
    "print(num)\n",
    "print(type(num))"
   ]
  },
  {
   "cell_type": "code",
   "execution_count": 2,
   "metadata": {},
   "outputs": [
    {
     "name": "stdout",
     "output_type": "stream",
     "text": [
      "876879837\n",
      "<class 'str'>\n"
     ]
    }
   ],
   "source": [
    "string = \"876879837\"           #string data type\n",
    "print(string)\n",
    "print(type(string))            #shows the type of data"
   ]
  },
  {
   "cell_type": "code",
   "execution_count": 3,
   "metadata": {},
   "outputs": [
    {
     "name": "stdout",
     "output_type": "stream",
     "text": [
      "12.78\n",
      "<class 'float'>\n"
     ]
    }
   ],
   "source": [
    "flt = 12.78                 #float data type\n",
    "print(flt)\n",
    "print(type(flt))"
   ]
  },
  {
   "cell_type": "code",
   "execution_count": 4,
   "metadata": {},
   "outputs": [
    {
     "name": "stdout",
     "output_type": "stream",
     "text": [
      "100\n",
      "200\n",
      "300\n"
     ]
    }
   ],
   "source": [
    "number = 100    \n",
    "Number = 200                #Python in case sensitive\n",
    "NUMBER = 300\n",
    "print(number)\n",
    "print(Number)\n",
    "print(NUMBER)"
   ]
  },
  {
   "cell_type": "markdown",
   "metadata": {},
   "source": [
    "# Naming convention"
   ]
  },
  {
   "cell_type": "markdown",
   "metadata": {},
   "source": [
    "1- Python is case sensitive\n",
    "2- Can't declare the data type of variable in adv.\n",
    "3- Don't use built-in key words\n",
    "4- No spaces allowed in naming of variable\n",
    "5- No special characters\n"
   ]
  },
  {
   "cell_type": "code",
   "execution_count": 5,
   "metadata": {},
   "outputs": [
    {
     "name": "stdout",
     "output_type": "stream",
     "text": [
      "100\n"
     ]
    }
   ],
   "source": [
    "inprin = 100                       \n",
    "print(inprin)            "
   ]
  },
  {
   "cell_type": "code",
   "execution_count": 6,
   "metadata": {},
   "outputs": [
    {
     "name": "stdout",
     "output_type": "stream",
     "text": [
      "<class 'int'>\n"
     ]
    }
   ],
   "source": [
    "addition = 567\n",
    "print(type(addition))"
   ]
  },
  {
   "cell_type": "code",
   "execution_count": 8,
   "metadata": {},
   "outputs": [
    {
     "name": "stdout",
     "output_type": "stream",
     "text": [
      "Hello, How are you?Hello, How are you?Hello, How are you?\n"
     ]
    }
   ],
   "source": [
    "greeting = \"Hello, How are you?\"\n",
    "print(greeting * 3)\n"
   ]
  },
  {
   "cell_type": "code",
   "execution_count": 9,
   "metadata": {},
   "outputs": [
    {
     "name": "stdout",
     "output_type": "stream",
     "text": [
      "Hello, \n",
      "How are you?\n"
     ]
    }
   ],
   "source": [
    "greeting = \"Hello, \\nHow are you?\"          #\\n - for adding up a new line\n",
    "print(greeting)"
   ]
  },
  {
   "cell_type": "code",
   "execution_count": 25,
   "metadata": {},
   "outputs": [
    {
     "name": "stdout",
     "output_type": "stream",
     "text": [
      "Hello \tHow are you?\n"
     ]
    }
   ],
   "source": [
    "greeting = \"Hello \\tHow are you?\"          #\\t - for tab\n",
    "print(greeting)"
   ]
  },
  {
   "cell_type": "code",
   "execution_count": 11,
   "metadata": {},
   "outputs": [
    {
     "name": "stdout",
     "output_type": "stream",
     "text": [
      "1134\n",
      "<class 'int'>\n"
     ]
    }
   ],
   "source": [
    "addition = 567\n",
    "print(addition*2)\n",
    "print(type(addition))"
   ]
  },
  {
   "cell_type": "code",
   "execution_count": 14,
   "metadata": {},
   "outputs": [
    {
     "name": "stdout",
     "output_type": "stream",
     "text": [
      "1 66.7 Fifty six\n"
     ]
    }
   ],
   "source": [
    "roll_no, marks, percent = 1, 66.7, \"Fifty six\"      #Declaring multiple variables\n",
    "print(roll_no, marks, percent)                      #ordering of the value"
   ]
  },
  {
   "cell_type": "code",
   "execution_count": 17,
   "metadata": {},
   "outputs": [
    {
     "name": "stdout",
     "output_type": "stream",
     "text": [
      "10000\n"
     ]
    }
   ],
   "source": [
    "a= 50\n",
    "b= 20                          #computation of simple values\n",
    "c= 10\n",
    "print(a * b * c)"
   ]
  },
  {
   "cell_type": "code",
   "execution_count": 18,
   "metadata": {},
   "outputs": [
    {
     "name": "stdout",
     "output_type": "stream",
     "text": [
      "(2+3j)\n",
      "<class 'complex'>\n"
     ]
    }
   ],
   "source": [
    "cmplx = 2 + 3j               #declaring complex variable\n",
    "print(cmplx)\n",
    "print(type(cmplx))"
   ]
  },
  {
   "cell_type": "code",
   "execution_count": 19,
   "metadata": {},
   "outputs": [
    {
     "name": "stdout",
     "output_type": "stream",
     "text": [
      "Today is good day!\n"
     ]
    }
   ],
   "source": [
    "line1 = 'Today is'                         #addition or joining of strings\n",
    "line2 = \"good day!\"\n",
    "print(line1 + \" \" +line2)"
   ]
  },
  {
   "cell_type": "code",
   "execution_count": 26,
   "metadata": {},
   "outputs": [
    {
     "name": "stdout",
     "output_type": "stream",
     "text": [
      "(2+3j)\n",
      "<class 'complex'>\n",
      "(6+8j)\n"
     ]
    }
   ],
   "source": [
    "cmplx = 2 + 3j   \n",
    "cmplx2 = 4 + 5j                             #declaring complex variable\n",
    "print(cmplx)                                #addition of complex variables\n",
    "print(type(cmplx))\n",
    "print(cmplx + cmplx2)"
   ]
  },
  {
   "cell_type": "code",
   "execution_count": 35,
   "metadata": {},
   "outputs": [
    {
     "name": "stdout",
     "output_type": "stream",
     "text": [
      "1- Python is case sensitive 2- Can't declare the data type of variable in adv. 3- Don't use built-in key words 4- No spaces allowed in naming of variable 5- No special characters\n"
     ]
    }
   ],
   "source": [
    "statement = (\"1- Python is case sensitive 2- Can\\'t declare the data type of variable in adv. 3- Don\\'t use built-in key words 4- No spaces allowed in naming of variable 5- No special characters\")\n",
    "print(statement)\n"
   ]
  },
  {
   "cell_type": "code",
   "execution_count": 33,
   "metadata": {},
   "outputs": [
    {
     "name": "stdout",
     "output_type": "stream",
     "text": [
      "\"I don't know\", he said\n"
     ]
    }
   ],
   "source": [
    "stm = (\"\\\"I don\\'t know\\\", he said\")         #use (\\) before quotes(' or \")\n",
    "print(stm)"
   ]
  },
  {
   "cell_type": "code",
   "execution_count": 38,
   "metadata": {},
   "outputs": [
    {
     "name": "stdout",
     "output_type": "stream",
     "text": [
      "1- Python is case sensitive \n",
      "             2- Can't declare the data type of variable in adv. \n",
      "             3- Don't use built-in key words \n",
      "             4- No spaces allowed in naming of variable \n",
      "             5- No special characters\n",
      "234\n"
     ]
    }
   ],
   "source": [
    "statement = (\"\"\"1- Python is case sensitive \n",
    "             2- Can\\'t declare the data type of variable in adv. \n",
    "             3- Don\\'t use built-in key words \n",
    "             4- No spaces allowed in naming of variable \n",
    "             5- No special characters\"\"\")\n",
    "print(statement)                                  #('''........''')- for multiple lines of string\n",
    "print(len(statement))                             #(\"\"\".......\"\"\")- for multiple lines of string"
   ]
  },
  {
   "cell_type": "code",
   "execution_count": 39,
   "metadata": {
    "scrolled": true
   },
   "outputs": [
    {
     "name": "stdout",
     "output_type": "stream",
     "text": [
      "29\n"
     ]
    }
   ],
   "source": [
    "state = \"juf blrugeigjmelrijge,gcpkogr\"                  # len - for length/ no. of letters\n",
    "print(len(state))"
   ]
  }
 ],
 "metadata": {
  "kernelspec": {
   "display_name": "Python 3",
   "language": "python",
   "name": "python3"
  },
  "language_info": {
   "codemirror_mode": {
    "name": "ipython",
    "version": 3
   },
   "file_extension": ".py",
   "mimetype": "text/x-python",
   "name": "python",
   "nbconvert_exporter": "python",
   "pygments_lexer": "ipython3",
   "version": "3.8.3"
  }
 },
 "nbformat": 4,
 "nbformat_minor": 4
}
